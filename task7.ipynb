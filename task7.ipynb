{
 "cells": [
  {
   "cell_type": "markdown",
   "id": "aae1d8ac",
   "metadata": {},
   "source": [
    "## Задача 7"
   ]
  },
  {
   "cell_type": "code",
   "execution_count": 31,
   "id": "9c2bb67f",
   "metadata": {},
   "outputs": [],
   "source": [
    "import matplotlib.pyplot as plt\n",
    "import numpy as np\n",
    "\n",
    "import seaborn as sns\n",
    "sns.set_style(\"darkgrid\")\n",
    "\n",
    "%matplotlib inline\n",
    "\n",
    "import ipywidgets as widgets\n",
    "\n",
    "from functions.diffEquationSolver import RK2, RK4"
   ]
  },
  {
   "cell_type": "markdown",
   "id": "29867ddb",
   "metadata": {},
   "source": [
    "**Lotka-Volterra** also known as predator-prey equation:\n",
    "\n",
    "$\\begin{cases}\n",
    "    \\frac{dx}{dt} = a \\cdot x - b \\cdot xy\\\\\n",
    "    \\frac{dy}{dt} = c \\cdot xy - d \\cdot y\n",
    "\\end{cases}$\n",
    "\n",
    "$a, b, c, d > 0 $"
   ]
  },
  {
   "cell_type": "code",
   "execution_count": 68,
   "id": "21dd44ff",
   "metadata": {},
   "outputs": [
    {
     "data": {
      "application/vnd.jupyter.widget-view+json": {
       "model_id": "4706898009ac4ce4a3478ceb9ff7f42a",
       "version_major": 2,
       "version_minor": 0
      },
      "text/plain": [
       "interactive(children=(Dropdown(description='method', options=(('Runge-Kutta2', <function RK2 at 0x11e545310>),…"
      ]
     },
     "metadata": {},
     "output_type": "display_data"
    }
   ],
   "source": [
    "@widgets.interact(method=[('Runge-Kutta2',RK2), ('Runge-Kutta4', RK4)],\n",
    "                  a='10',\n",
    "                  b='2',\n",
    "                  c='2',\n",
    "                  d='10',\n",
    "                  PreyNum=(0, 100),\n",
    "                  PredatorNum=(0, 100),\n",
    "                  T=(1, 20))\n",
    "def solveLotkaVolterra(method=RK2, a=10, b=2, c=2, d=10, PreyNum=2, PredatorNum=2,  T=10):\n",
    "    \n",
    "    a, b, c, d = float(a), float(b), float(c), float(d)\n",
    "    \n",
    "    print(f\"Stationary points at (Predator, Prey): \\n\\t(0, 0)\\n\\t({a / b}, {d / c})\")\n",
    "    \n",
    "    f = lambda t, x, y: np.array([x * (a - b * y), y * (c * x - d)])\n",
    "    \n",
    "    N = 1000\n",
    "    u = np.empty((N, 2))\n",
    "\n",
    "    u[0] = np.array([PreyNum, PredatorNum])\n",
    "\n",
    "    t = np.linspace(0, T, N)\n",
    "\n",
    "    h = T / N\n",
    "\n",
    "    for i in range(N - 1):\n",
    "        u[i + 1] = method(u[i], f, t[i], h)\n",
    "\n",
    "    fg, ax = plt.subplots(1, 2, figsize=(15, 7), dpi=150)\n",
    "    x = u[:,0]\n",
    "    y = u[:,1]\n",
    "\n",
    "    ax[0].plot(t, x, label='Prey')\n",
    "    ax[0].plot(t, y, label='Predator')\n",
    "    ax[0].set_xlabel('Time')\n",
    "    ax[0].set_ylabel('Number of species')\n",
    "    ax[0].set_title('Prey-Predator model')\n",
    "    ax[0].legend(loc='upper right')\n",
    "    \n",
    "    ax[1].plot(x, y, '--', markevery=5, zorder=0)\n",
    "    ax[1].scatter(PreyNum, PredatorNum, color='red', zorder=1, label=f\"Prey: {PreyNum}, Predator: {PredatorNum}\")\n",
    "    ax[1].set_xlabel('Prey')\n",
    "    ax[1].set_ylabel('Predator')\n",
    "    ax[1].set_title('Phase Plane')\n",
    "    ax[1].legend(loc='upper right')"
   ]
  },
  {
   "cell_type": "code",
   "execution_count": 69,
   "id": "017dd7ce",
   "metadata": {},
   "outputs": [],
   "source": [
    "# todo: устойчивость, критерий Ляпунова, "
   ]
  },
  {
   "cell_type": "code",
   "execution_count": null,
   "id": "a2ddeb31",
   "metadata": {},
   "outputs": [],
   "source": []
  }
 ],
 "metadata": {
  "kernelspec": {
   "display_name": "Python 3 (ipykernel)",
   "language": "python",
   "name": "python3"
  },
  "language_info": {
   "codemirror_mode": {
    "name": "ipython",
    "version": 3
   },
   "file_extension": ".py",
   "mimetype": "text/x-python",
   "name": "python",
   "nbconvert_exporter": "python",
   "pygments_lexer": "ipython3",
   "version": "3.9.14"
  }
 },
 "nbformat": 4,
 "nbformat_minor": 5
}
