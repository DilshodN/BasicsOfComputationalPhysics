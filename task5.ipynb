{
 "cells": [
  {
   "cell_type": "markdown",
   "id": "5bad6a09",
   "metadata": {},
   "source": [
    "## Задача 5"
   ]
  },
  {
   "cell_type": "markdown",
   "id": "d8bdd10e",
   "metadata": {},
   "source": [
    "Install packages if required, just delete \"#\" below and run cell"
   ]
  },
  {
   "cell_type": "code",
   "execution_count": 1,
   "id": "6285f889",
   "metadata": {},
   "outputs": [],
   "source": [
    "#!pip install seaborn ipywidgets  "
   ]
  },
  {
   "cell_type": "code",
   "execution_count": 2,
   "id": "276afc82",
   "metadata": {},
   "outputs": [],
   "source": [
    "import numpy as np\n",
    "import matplotlib.pyplot as plt\n",
    "\n",
    "import seaborn as sns\n",
    "sns.set_style('darkgrid')\n",
    "\n",
    "import ipywidgets as widgets"
   ]
  },
  {
   "cell_type": "markdown",
   "id": "8e569475",
   "metadata": {},
   "source": [
    "$x_k=-5+k\\frac{10}{n}$ $k=0..n$\n",
    "\\\n",
    "$y_k=\\frac{1}{1+x_k^2}$ $n=4..15$"
   ]
  },
  {
   "cell_type": "code",
   "execution_count": 3,
   "id": "cd5b7dcc",
   "metadata": {},
   "outputs": [],
   "source": [
    "x_k = lambda k, n: -5 + k * (10 / n)\n",
    "y_k = lambda k, n: 1 / (1 + x_k(k, n)**2)"
   ]
  },
  {
   "cell_type": "code",
   "execution_count": 4,
   "id": "e0579636",
   "metadata": {},
   "outputs": [],
   "source": [
    "def getXY(n: int) -> (np.ndarray, np.ndarray):\n",
    "    K = np.arange(0, n+1)\n",
    "    return x_k(K, n), y_k(K, n)"
   ]
  },
  {
   "cell_type": "markdown",
   "id": "1db01919",
   "metadata": {},
   "source": [
    "**Lets plot!**"
   ]
  },
  {
   "cell_type": "code",
   "execution_count": 5,
   "id": "bf4089f6",
   "metadata": {},
   "outputs": [
    {
     "data": {
      "application/vnd.jupyter.widget-view+json": {
       "model_id": "9736b0ff21ca4b2aaca6891c23c268a9",
       "version_major": 2,
       "version_minor": 0
      },
      "text/plain": [
       "interactive(children=(IntSlider(value=4, description='n', max=15, min=4), Output()), _dom_classes=('widget-int…"
      ]
     },
     "metadata": {},
     "output_type": "display_data"
    }
   ],
   "source": [
    "@widgets.interact(n=(4, 15))\n",
    "def drawFunction(n: int = 4):\n",
    "    plt.figure(figsize=(15, 7), dpi=70)\n",
    "    x, y = getXY(n)\n",
    "    plt.plot(x, y, 'or', label=f\"$n={n}$\")\n",
    "    plt.legend(loc='best')\n",
    "    plt.show()"
   ]
  },
  {
   "cell_type": "markdown",
   "id": "13056561",
   "metadata": {},
   "source": [
    "### Lagrange interpolation"
   ]
  },
  {
   "cell_type": "markdown",
   "id": "fe8b6d20",
   "metadata": {},
   "source": [
    "$l_i(x)=\\prod_{0\\leq j \\leq n, j\\neq i}(x-x_j)$"
   ]
  },
  {
   "cell_type": "markdown",
   "id": "e57dddd7",
   "metadata": {},
   "source": [
    "$P_n(x) =\\sum_{i=0}^n y(x_i) \\cdot \\frac{l_i(x)}{l_i(x_i)}$"
   ]
  },
  {
   "cell_type": "code",
   "execution_count": 6,
   "id": "27d39679",
   "metadata": {},
   "outputs": [],
   "source": [
    "def LagrangePoly(X: np.ndarray, Y: np.ndarray):\n",
    "    \n",
    "    assert X.size == Y.size\n",
    "    n = X.size\n",
    "    \n",
    "    l = lambda x, i: np.prod([(x - X[j]) for j in range(n) if j != i])\n",
    "    \n",
    "    P = lambda x: np.sum([Y[i] * (l(x, i)) / (l(X[i], i)) for i in range(n)])\n",
    "    \n",
    "    return P"
   ]
  },
  {
   "cell_type": "code",
   "execution_count": 7,
   "id": "b6e37071",
   "metadata": {},
   "outputs": [
    {
     "data": {
      "application/vnd.jupyter.widget-view+json": {
       "model_id": "58882c9b3dc74128adadcb4220ea09e7",
       "version_major": 2,
       "version_minor": 0
      },
      "text/plain": [
       "interactive(children=(IntSlider(value=4, description='n', max=15, min=4), Output()), _dom_classes=('widget-int…"
      ]
     },
     "metadata": {},
     "output_type": "display_data"
    }
   ],
   "source": [
    "@widgets.interact(n=(4, 15))\n",
    "def drawLagrangeInterpolation(n: int = 4):\n",
    "    fg, ax = plt.subplots(1, 2, figsize=(16, 8), dpi=100)\n",
    "    X, Y = getXY(n)\n",
    "    P = LagrangePoly(X, Y)\n",
    "    xx = np.linspace(X[0], X[-1], 1000)\n",
    "    yy =  np.vectorize(P)(xx)\n",
    "    OriginalY = np.vectorize(lambda x: 1 / (1 + x**2))(xx)\n",
    "    ax[0].plot(X, Y, 'or')\n",
    "    ax[0].plot(xx, yy, linestyle=':', label=r\"$Lagrange \\ P_n(x)$\")\n",
    "    ax[0].plot(xx, OriginalY, label=r\"$\\frac{1}{1+x^2}$\")\n",
    "    ax[1].plot(xx, np.abs(yy - OriginalY))\n",
    "    ax[1].set_title(r'$Lagrange \\ |P_n(x) - \\frac{1}{1+x^2}|$')\n",
    "    ax[0].legend(loc='best')"
   ]
  },
  {
   "cell_type": "markdown",
   "id": "e18c0116",
   "metadata": {},
   "source": [
    "### Newton interpolation"
   ]
  },
  {
   "cell_type": "markdown",
   "id": "65d00a0c",
   "metadata": {},
   "source": [
    "$P(x) = P(x_0) + \\sum_{k=1}^{n} P(x_0,x_1,...,x_k)\\prod_{j=0}^{k-1}(x-x_j)$"
   ]
  },
  {
   "cell_type": "code",
   "execution_count": 8,
   "id": "87929404",
   "metadata": {},
   "outputs": [],
   "source": [
    "# Util Function\n",
    "def NewtonFillTable(X: np.ndarray, Y: np.ndarray):\n",
    "    \n",
    "    assert X.size == Y.size\n",
    "    n = X.size\n",
    "    A = np.zeros((n, n + 1))\n",
    "    A[:, 0] = X[:]\n",
    "    A[:, 1] = Y[:]\n",
    "    \n",
    "    for j in range(2, n+1):\n",
    "        for i in range(j-1, n):\n",
    "            A[i, j] = (A[i, j-1] - A[i-1, j-1]) / (A[i, 0] - A[i-j+1, 0])\n",
    "    \n",
    "    p = np.zeros(n)\n",
    "    for k in range(n):\n",
    "        p[k] = A[k, k+1]\n",
    "    \n",
    "    return p"
   ]
  },
  {
   "cell_type": "code",
   "execution_count": 9,
   "id": "bad83ca5",
   "metadata": {},
   "outputs": [],
   "source": [
    "def NewtonPoly(t, X: np.ndarray, Y: np.ndarray):\n",
    "    p = NewtonFillTable(X, Y)\n",
    "    n = X.size\n",
    "    res = p[n-1]\n",
    "    for i in range(n-2, -1, -1):\n",
    "        res = res * (t-X[i]) + p[i]\n",
    "    return res"
   ]
  },
  {
   "cell_type": "code",
   "execution_count": 10,
   "id": "141b3021",
   "metadata": {},
   "outputs": [
    {
     "data": {
      "application/vnd.jupyter.widget-view+json": {
       "model_id": "8743698ba6a64430a3187c61c55a0f4d",
       "version_major": 2,
       "version_minor": 0
      },
      "text/plain": [
       "interactive(children=(IntSlider(value=4, description='n', max=15, min=4), Output()), _dom_classes=('widget-int…"
      ]
     },
     "metadata": {},
     "output_type": "display_data"
    }
   ],
   "source": [
    "@widgets.interact(n=(4, 15))\n",
    "def drawNewtonInterpolation(n: int = 4):\n",
    "    fg, ax = plt.subplots(1, 2, figsize=(16, 8), dpi=100)\n",
    "    X, Y = getXY(n)\n",
    "    ax[0].plot(X, Y, 'or')\n",
    "    \n",
    "    xx = np.linspace(X[0], X[-1], 1000)\n",
    "    yy = NewtonPoly(xx, X, Y)\n",
    "\n",
    "\n",
    "    OriginalY = np.vectorize(lambda x: 1 / (1 + x**2))(xx)\n",
    "#     P = LagrangePoly(X, Y)\n",
    "#     ax[0].plot(xx, np.vectorize(P)(xx), linestyle='-.', label=r\"$Lagrange \\ P_n(x)$\")\n",
    "    ax[0].plot(xx, yy, linestyle=':', label=r\"$Newton \\ P_n(x)$\")\n",
    "    ax[0].plot(xx, OriginalY, label=r\"$\\frac{1}{1+x^2}$\")\n",
    "    ax[1].plot(xx, np.abs(yy - OriginalY))\n",
    "    ax[1].set_title(r'$Newton \\ |P_n(x) - \\frac{1}{1+x^2}|$')\n",
    "    ax[0].legend(loc='best')"
   ]
  },
  {
   "cell_type": "markdown",
   "id": "d54f4081",
   "metadata": {},
   "source": [
    "## Lets try Chebishev partition of domain"
   ]
  },
  {
   "cell_type": "markdown",
   "id": "fb60d67c",
   "metadata": {},
   "source": [
    "$x_m = \\frac{a+b}{2} + \\frac{b-a}{2}\\cos{\\frac{\\pi(2m-1)}{2n}}$"
   ]
  },
  {
   "cell_type": "markdown",
   "id": "e68c6893",
   "metadata": {},
   "source": [
    "... soon"
   ]
  }
 ],
 "metadata": {
  "kernelspec": {
   "display_name": "Python 3 (ipykernel)",
   "language": "python",
   "name": "python3"
  },
  "language_info": {
   "codemirror_mode": {
    "name": "ipython",
    "version": 3
   },
   "file_extension": ".py",
   "mimetype": "text/x-python",
   "name": "python",
   "nbconvert_exporter": "python",
   "pygments_lexer": "ipython3",
   "version": "3.9.14"
  }
 },
 "nbformat": 4,
 "nbformat_minor": 5
}
