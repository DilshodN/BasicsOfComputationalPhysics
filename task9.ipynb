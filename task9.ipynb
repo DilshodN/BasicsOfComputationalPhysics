{
 "cells": [
  {
   "cell_type": "markdown",
   "id": "1c5bd331",
   "metadata": {},
   "source": [
    "# Задача 9"
   ]
  },
  {
   "cell_type": "code",
   "execution_count": 25,
   "id": "25912305",
   "metadata": {},
   "outputs": [],
   "source": [
    "import numpy as np\n",
    "import matplotlib.pyplot as plt\n",
    "import seaborn as sns\n",
    "\n",
    "sns.set_style(\"darkgrid\")\n",
    "\n",
    "import ipywidgets as widgets"
   ]
  },
  {
   "cell_type": "markdown",
   "id": "f2d05c68",
   "metadata": {},
   "source": [
    "Имеем уравнение вида:\n",
    "\n",
    "$y'' + p(x)y' + q(x)y = f(x)$\n",
    "\n",
    "$a < x < b$\n",
    "\n",
    "$y(a) = A, y(b) = B$"
   ]
  },
  {
   "cell_type": "markdown",
   "id": "5cc7e071",
   "metadata": {},
   "source": [
    "Заменим производные на приближения:\n",
    "\n",
    "$\\frac{y_{i-1} - 2y_{i} + y_{i+1}}{h^2} + p_i\\frac{y_{i+1} - y_{i-1}}{2h} + q_{i} y_{i} = f_i$\n",
    "\n",
    "$y_0 = A, y_n = B$ "
   ]
  },
  {
   "cell_type": "markdown",
   "id": "a397f949",
   "metadata": {},
   "source": [
    "Сгруппируем коэффициенты при $y_{i-1}, y_{i}, y_{i+1}$:\n",
    "\n",
    "$(h^2q_1-2)y_1 + (1+\\frac{h}{2}p_1)y_2=h^2 f_1 - A \\cdot(1 - \\frac{h}{2} p_1)$\n",
    "\n",
    "$(1 - \\frac{h}{2}p_i)y_{i-1} + (h^2 q_i - 2)y_i + (1 + \\frac{h}{2}p_i)y_{i+1} = h^2 f_i, for \\ i=2, ... , (n-2)$\n",
    "\n",
    "$(1 - \\frac{h}{2}p_{n-1})y_{n-2} + (h^2 q_{n-1} - 2)y_{n-1} = h^2 f_{n-1} - B \\cdot (1 + \\frac{h}{2}p_{n-1})$"
   ]
  },
  {
   "cell_type": "code",
   "execution_count": 45,
   "id": "3a7cb990",
   "metadata": {},
   "outputs": [],
   "source": [
    "# Tridiagonal Matrix Solver\n",
    "def TMS(a, b, c, f):\n",
    "    n = f.size\n",
    "    \n",
    "    for i in range(1, n):\n",
    "        w = a[i] / b[i - 1]\n",
    "        b[i] -= w * c[i - 1]\n",
    "        f[i] -= w * f[i - 1]\n",
    "    \n",
    "    x = np.zeros(n)\n",
    "    x[n - 1] = f[n - 1] / b[n - 1]\n",
    "    \n",
    "    for i in range(n - 2, -1, -1):\n",
    "        x[i] = (f[i] - c[i] * x[i + 1]) / b[i]\n",
    "    \n",
    "    return x"
   ]
  },
  {
   "cell_type": "code",
   "execution_count": 50,
   "id": "1dc0f4d1",
   "metadata": {},
   "outputs": [],
   "source": [
    "def createABCF(x, p, q, F, boundaryCondLeft, boundaryCondRight):\n",
    "    p_n = np.vectorize(p)(x)\n",
    "    q_n = np.vectorize(q)(x)\n",
    "    f_n = np.vectorize(F)(x)\n",
    "    \n",
    "    assert x.size > 2\n",
    "    h = x[1] - x[0]\n",
    "    \n",
    "    n = x.size\n",
    "    a, b, c, f = np.zeros_like(x), np.zeros_like(x), np.zeros_like(x), np.zeros_like(x)\n",
    "    \n",
    "    for i in range(n):\n",
    "        a[i] = 1 - (h/2) * p_n[i]\n",
    "        b[i] = h**2 * q_n[i] - 2\n",
    "        c[i] = 1 + (h/2) * p_n[i]\n",
    "        f[i] = h**2 * f_n[i]\n",
    "    \n",
    "    alpha1, beta1, C1 = boundaryCondLeft\n",
    "    alpha2, beta2, C2 = boundaryCondRight\n",
    "    \n",
    "    # alpha1 * y(a) + beta1 * y'(a) = C1\n",
    "    # alpha2 * y(b) + beta2 * y'(b) = C2\n",
    "    \n",
    "    # it's fucking magic guys, dont even try to understand\n",
    "    a[0] = 0\n",
    "    b[0] = alpha1 - beta1 / h\n",
    "    c[0] = beta1 / h\n",
    "    f[0] = C1\n",
    "    \n",
    "    a[n - 1] = - beta2 / h\n",
    "    b[n - 1] = alpha2 + beta2 / h\n",
    "    c[n - 1] = 0\n",
    "    f[n - 1] = C2\n",
    "    \n",
    "    return a, b, c, f"
   ]
  },
  {
   "cell_type": "code",
   "execution_count": 57,
   "id": "f6afedcb",
   "metadata": {},
   "outputs": [],
   "source": [
    "# it is only for y(a) = A, y(b) = B\n",
    "def groundTruth(x, A=0, B=0):\n",
    "    return (A + B) / 2 + x * (B - A) / np.pi - np.cos(x)"
   ]
  },
  {
   "cell_type": "code",
   "execution_count": 56,
   "id": "49529019",
   "metadata": {},
   "outputs": [
    {
     "data": {
      "application/vnd.jupyter.widget-view+json": {
       "model_id": "e13744b0dea245cfaf2afb057159c4e6",
       "version_major": 2,
       "version_minor": 0
      },
      "text/plain": [
       "interactive(children=(IntSlider(value=0, description='A', max=10, min=-10), IntSlider(value=0, description='B'…"
      ]
     },
     "metadata": {},
     "output_type": "display_data"
    }
   ],
   "source": [
    "@widgets.interact(A=(-10, 10), B=(-10, 10))\n",
    "def cringe(A=0, B=0):\n",
    "    \n",
    "    x0 = -np.pi / 2\n",
    "    xn = np.pi / 2\n",
    "    N = int(1e3)\n",
    "    \n",
    "    x = np.linspace(x0, xn, N)\n",
    "\n",
    "    y_gt = groundTruth(x, A, B)\n",
    "\n",
    "    p = lambda x: 0\n",
    "    q = lambda x: 0\n",
    "    f = np.cos\n",
    "    \n",
    "    # alpha1 * y(a) + beta1 * y'(a) = C1\n",
    "    alpha1, beta1, C1 = (1, 0, A)\n",
    "    \n",
    "    # alpha2 * y(b) + beta2 * y'(b) = C2\n",
    "    alpha2, beta2, C2 = (1, 0, B)\n",
    "    \n",
    "    y = TMS(*createABCF(x, p, q, f, (alpha1, beta1, C1), (alpha2, beta2, C2)))\n",
    "\n",
    "    fg, ax = plt.subplots(2, 1, figsize=(10, 7), dpi=100, sharex=True)\n",
    "\n",
    "    ax[0].plot(x, y, 'r--', label='TMS solution')\n",
    "    ax[0].plot(x, y_gt, linewidth=0.9, label='GT solution')\n",
    "\n",
    "    ax[0].set_title(\"TMS\")\n",
    "    ax[0].legend(loc='best')\n",
    "\n",
    "    ax[1].plot(x, np.abs(y - y_gt))\n",
    "    ax[1].set_xlabel(\"X\")\n",
    "    ax[1].set_title(\"Error\")"
   ]
  }
 ],
 "metadata": {
  "kernelspec": {
   "display_name": "Python 3 (ipykernel)",
   "language": "python",
   "name": "python3"
  },
  "language_info": {
   "codemirror_mode": {
    "name": "ipython",
    "version": 3
   },
   "file_extension": ".py",
   "mimetype": "text/x-python",
   "name": "python",
   "nbconvert_exporter": "python",
   "pygments_lexer": "ipython3",
   "version": "3.9.14"
  }
 },
 "nbformat": 4,
 "nbformat_minor": 5
}
