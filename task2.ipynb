{
 "cells": [
  {
   "cell_type": "markdown",
   "id": "aaf1b722",
   "metadata": {},
   "source": [
    "## Задача 2"
   ]
  },
  {
   "cell_type": "code",
   "execution_count": 6,
   "id": "78751fa9",
   "metadata": {},
   "outputs": [],
   "source": [
    "import numpy as np\n",
    "from matplotlib import pyplot as plt"
   ]
  },
  {
   "cell_type": "code",
   "execution_count": 193,
   "id": "0565a4d2",
   "metadata": {},
   "outputs": [],
   "source": [
    "np.seterr(divide='ignore'); # forgive me..\n",
    "plt.rcParams[\"figure.figsize\"] = (5,5)\n",
    "plt.rcParams['figure.dpi'] = 100"
   ]
  },
  {
   "cell_type": "markdown",
   "id": "2db290b1",
   "metadata": {},
   "source": [
    "### Equation of the form f(E)=0, where E is energy in main state for the problem where the particle is in a rectangular potential well of size [-a, a] and potential -|U0|"
   ]
  },
  {
   "cell_type": "code",
   "execution_count": 194,
   "id": "763ba2ef",
   "metadata": {},
   "outputs": [],
   "source": [
    "a = 1\n",
    "U0 = 1\n",
    "E0 = -0.95\n",
    "precision=10e-9"
   ]
  },
  {
   "cell_type": "code",
   "execution_count": 195,
   "id": "cf6e9c65",
   "metadata": {},
   "outputs": [],
   "source": [
    "def f(E):\n",
    "    return (1/np.tan(np.sqrt(2 * a * a * U0 * (1 + E/U0)))) - np.sqrt((-U0/E) - 1) "
   ]
  },
  {
   "cell_type": "code",
   "execution_count": 196,
   "id": "d26f424a",
   "metadata": {},
   "outputs": [],
   "source": [
    "def df(E):\n",
    "    return - (a ** 2) / ((np.sin(np.sqrt(2 * a * a * U0 * (1 + E/U0))) ** 2) * np.sqrt(2 * a * a * U0 * (1 + E/U0)))\\\n",
    "           - (U0/2)/(E**2*((-U0/E) - 1))      "
   ]
  },
  {
   "cell_type": "code",
   "execution_count": 208,
   "id": "8ede6a8b",
   "metadata": {},
   "outputs": [
    {
     "data": {
      "image/png": "[encoded data removed]",
      "text/plain": [
       "<Figure size 500x500 with 1 Axes>"
      ]
     },
     "metadata": {
      "needs_background": "light"
     },
     "output_type": "display_data"
    }
   ],
   "source": [
    "dom = np.linspace(-1, -0.001, 1000)\n",
    "val = f(dom)\n",
    "plt.xlabel(\"E (Energy)\")\n",
    "plt.ylabel(\"f(E)\")\n",
    "plt.xlim([-1.1, 0.1])\n",
    "plt.ylim([-10, 10])\n",
    "plt.hlines(0, xmin=-1.1, xmax=0.1, colors='k')\n",
    "plt.plot(dom, val)\n",
    "plt.show()"
   ]
  },
  {
   "cell_type": "markdown",
   "id": "ce95c2c2",
   "metadata": {},
   "source": [
    "# Dichotomy"
   ]
  },
  {
   "cell_type": "code",
   "execution_count": 144,
   "id": "cea59cb6",
   "metadata": {},
   "outputs": [],
   "source": [
    "def dichotomy(a, b, error=precision):\n",
    "    middle = (a + b) / 2\n",
    "    curError = (b - a) / 2\n",
    "    if curError < error:\n",
    "        return middle\n",
    "    return dichotomy(a, middle) if f(middle) * f(a) <= 0 else dichotomy(middle, b)"
   ]
  },
  {
   "cell_type": "code",
   "execution_count": 158,
   "id": "082cf178",
   "metadata": {},
   "outputs": [
    {
     "name": "stdout",
     "output_type": "stream",
     "text": [
      "Dichotomy root: -0.6038978323340416\n",
      "f(-0.6038978323340416) = -5.43426526000701e-09\n",
      "CPU times: user 1.63 ms, sys: 516 µs, total: 2.14 ms\n",
      "Wall time: 1.92 ms\n"
     ]
    }
   ],
   "source": [
    "%%time\n",
    "dichotomyRoot = dichotomy(-1, -0)\n",
    "print('Dichotomy root: {}'.format(dichotomyRoot))\n",
    "print('f({}) = {}'.format(dichotomyRoot, f(dichotomyRoot)))"
   ]
  },
  {
   "cell_type": "markdown",
   "id": "c0799fbf",
   "metadata": {},
   "source": [
    "which almost zero :)"
   ]
  },
  {
   "cell_type": "markdown",
   "id": "87201b89",
   "metadata": {},
   "source": [
    "# Fixed Point Iteration"
   ]
  },
  {
   "cell_type": "markdown",
   "id": "4c6f5118",
   "metadata": {},
   "source": [
    "### let our $x_0$ (estimation to original root $x^*$) will be Dichotomy root, so..."
   ]
  },
  {
   "cell_type": "code",
   "execution_count": 209,
   "id": "46860b68",
   "metadata": {},
   "outputs": [],
   "source": [
    "_lambda = 1 / df(dichotomyRoot)\n",
    "def fixedPointIteration(x, error=precision):\n",
    "    value = - _lambda * f(x)\n",
    "    curError = np.abs(dichotomyRoot - x)\n",
    "    return fixedPointIteration(x + value) if curError > error else x"
   ]
  },
  {
   "cell_type": "code",
   "execution_count": 210,
   "id": "6e9bc76c",
   "metadata": {},
   "outputs": [
    {
     "name": "stdout",
     "output_type": "stream",
     "text": [
      "Fixed Point Iteration root: -0.6038978364461314\n",
      "f(-0.6038978364461314) = 9.17726517002393e-09\n",
      "CPU times: user 764 µs, sys: 431 µs, total: 1.19 ms\n",
      "Wall time: 863 µs\n"
     ]
    }
   ],
   "source": [
    "%%time\n",
    "fixPointIterRoot = fixedPointIteration(E0)\n",
    "print('Fixed Point Iteration root: {}'.format(fixPointIterRoot))\n",
    "print('f({}) = {}'.format(fixPointIterRoot, f(fixPointIterRoot)))"
   ]
  },
  {
   "cell_type": "markdown",
   "id": "68fa99fd",
   "metadata": {},
   "source": [
    "# Newton's Method"
   ]
  },
  {
   "cell_type": "code",
   "execution_count": 211,
   "id": "77e8e86d",
   "metadata": {},
   "outputs": [],
   "source": [
    "def Newton(x, error=precision):\n",
    "    value = f(x) / df(x)\n",
    "    curError = np.abs(fixPointIterRoot - x)\n",
    "    return Newton(x - value) if curError > error else x"
   ]
  },
  {
   "cell_type": "code",
   "execution_count": 212,
   "id": "7f7e9d5d",
   "metadata": {},
   "outputs": [
    {
     "name": "stdout",
     "output_type": "stream",
     "text": [
      "Newton's root: -0.6038978354320045\n",
      "f(-0.6038978354320045) = 5.573757899668408e-09\n",
      "CPU times: user 1.3 ms, sys: 280 µs, total: 1.58 ms\n",
      "Wall time: 3.71 ms\n"
     ]
    }
   ],
   "source": [
    "%%time\n",
    "newtonRoot = Newton(E0)\n",
    "print('Newton\\'s root: {}'.format(newtonRoot))\n",
    "print('f({}) = {}'.format(newtonRoot, f(newtonRoot)))"
   ]
  }
 ],
 "metadata": {
  "kernelspec": {
   "display_name": "Python 3 (ipykernel)",
   "language": "python",
   "name": "python3"
  },
  "language_info": {
   "codemirror_mode": {
    "name": "ipython",
    "version": 3
   },
   "file_extension": ".py",
   "mimetype": "text/x-python",
   "name": "python",
   "nbconvert_exporter": "python",
   "pygments_lexer": "ipython3",
   "version": "3.9.13"
  }
 },
 "nbformat": 4,
 "nbformat_minor": 5
}
